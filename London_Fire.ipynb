{
 "cells": [
  {
   "cell_type": "markdown",
   "id": "c4fc7496-3bb8-4a3b-9871-b97083f55248",
   "metadata": {},
   "source": [
    "# 1. Introduction"
   ]
  },
  {
   "cell_type": "markdown",
   "id": "64d8ea6b-d167-4548-9625-c98c1e054971",
   "metadata": {},
   "source": [
    "# 2. Literature review"
   ]
  },
  {
   "cell_type": "markdown",
   "id": "d90fdd51-008b-461b-a075-f5bbdc3fbc1d",
   "metadata": {},
   "source": [
    "# 3. Research question"
   ]
  },
  {
   "cell_type": "markdown",
   "id": "738beef7-40ea-4bd3-a942-5aae3e3b6cfe",
   "metadata": {},
   "source": [
    "# 4. Presentation of data"
   ]
  },
  {
   "cell_type": "code",
   "execution_count": 1,
   "id": "75af819e-4bc0-4ff4-bf65-e3820a12dd57",
   "metadata": {
    "tags": []
   },
   "outputs": [],
   "source": [
    "# Packages for data manipulation and processing\n",
    "import math\n",
    "import numpy as np\n",
    "import pandas as pd\n",
    "import os\n",
    "import geopandas as gpd\n",
    "\n",
    "# Packages for visualisation\n",
    "import matplotlib.pyplot as plt # primary plotting package\n",
    "import matplotlib.cm as cm\n",
    "import matplotlib.ticker as ticker # plt ticker manipulation\n",
    "import seaborn as sns; sns.set(style=\"ticks\", color_codes=True) # for specialised plots\n",
    "\n",
    "# Notebook settings\n",
    "random_state = 42 # for reproducability\n",
    "np.random.seed(random_state) # setting numpy random seed, as that is used for sklearn"
   ]
  },
  {
   "cell_type": "code",
   "execution_count": null,
   "id": "a5322353-7455-4d59-b66f-13889cce49fb",
   "metadata": {
    "tags": []
   },
   "outputs": [],
   "source": [
    "# Reading in fire incident data\n",
    "incidentData = pd.read_csv('https://data.london.gov.uk/download/london-fire-brigade-incident-records/73728cf4-b70e-48e2-9b97-4e4341a2110d/LFB%20Incident%20data%20-%20Datastore%20-%20with%20notional%20cost%20and%20UPRN%20from%20January%202009.zip',low_memory=False, \n",
    "                           infer_datetime_format=True,\n",
    "                           parse_dates=['TimeOfCall', 'DateOfCall'], )\n",
    "\n",
    "incidentData['DateOfCall'] = incidentData['DateOfCall'].dt.date\n",
    "incidentData.head(5)"
   ]
  },
  {
   "cell_type": "code",
   "execution_count": null,
   "id": "bb7cb1ec-cc93-4950-8967-b7f087f6c00f",
   "metadata": {
    "tags": []
   },
   "outputs": [],
   "source": [
    "# Reading in house pricing data\n",
    "housePriceData = pd.read_csv('https://data.london.gov.uk/download/average-house-prices/bdf8eee7-41e1-4d24-90ce-93fe5cf040ae/land-registry-house-prices-MSOA.csv',low_memory=False)\n",
    "housePriceData = housePriceData.loc[housePriceData['Year'] == 'Year ending Dec 2017']\n",
    "housePriceData = housePriceData.drop(columns = ['Year','Measure'])\n",
    "housePriceData.head()"
   ]
  },
  {
   "cell_type": "code",
   "execution_count": null,
   "id": "7bd1606e-4364-4887-a021-ee17da961a9d",
   "metadata": {
    "tags": []
   },
   "outputs": [],
   "source": [
    "# Reading in income data\n",
    "incomeData = pd.read_csv('https://raw.githubusercontent.com/kav-sekar/dsss_data/main/net%20annual%20household%20income.csv', low_memory=False)\n",
    "incomeData = incomeData.drop(columns = ['Local authority code','Local authority name','Region code','Region name','Upper confidence limit (£)','Lower confidence limit (£)','Confidence interval (£)'])\n",
    "incomeData.head()"
   ]
  },
  {
   "cell_type": "code",
   "execution_count": null,
   "id": "0af6d172-4198-4a47-a1ca-131dd6207ff0",
   "metadata": {},
   "outputs": [],
   "source": [
    "# Combining income and housing price to create dataframe\n",
    "soceconomicData = pd.merge(housePriceData, incomeData, left_on=\"Code\", right_on=\"MSOA code\",how=\"right\")\n",
    "soceconomicData.rename(columns = {'Value':'MedianHousePrice', 'Net annual income (£)':'NetAnnualIncome'}, inplace = True)\n",
    "soceconomicData.replace(',','', regex=True, inplace=True)\n",
    "soceconomicData.drop(columns = ['Code','Area','MSOA name'], inplace = True)\n",
    "soceconomicData['NetAnnualIncome'] = soceconomicData['NetAnnualIncome'].apply(pd.to_numeric,errors='coerce')\n",
    "soceconomicData.head()"
   ]
  },
  {
   "cell_type": "code",
   "execution_count": null,
   "id": "a0eb1a20-9dd1-4dd2-995f-add1f59002aa",
   "metadata": {
    "tags": []
   },
   "outputs": [],
   "source": [
    "incidentData.info()"
   ]
  },
  {
   "cell_type": "markdown",
   "id": "1808cdd7-279b-449e-8551-6ee716fb4017",
   "metadata": {},
   "source": [
    "The key variables in this data set that are being used in this analysis are as follows:\n",
    "- <b>DateOfCall</b>: Date on which the incident call was made\n",
    "- <b>CalYear</b>: Year in which the call was made\n",
    "- <b>TimeOfCall</b>: Date and time when the call was made\n",
    "- <b>IncidentGroup</b>: All incidents are classified into three categories namely Fire, False Alarm, Special Service\n",
    "- <b>StopCodeDescription</b>: Detailed incident category description with further detail for special services incident categories. These include AFA (Automatic Fire Alarm), Chimney Fire, False alarm - Good intent, False alarm – Malicious, Flood call attended - Batch mobilised, Late Call, Primary Fire, Secondary Fire, Special Service and Use of Special Operations Room.\n",
    "- <b>PropertyCategory</b>: High level property descriptor\n",
    "- <b>PropertyType</b>: Detailed property descriptor\n",
    "- <b>AddressQualifier</b>: Qualifies location of actual incident relevant to category above\n",
    "- <b>Latitude</b>: Geographic data\n",
    "- <b>Longitude</b>: Geographic data\n",
    "- <b>IncidentStationGround</b>: LFB Station ground\n",
    "\n",
    "The selected variables include the following; data that will be available for every instance of a future fire incident call received by LBF prior to dispatching help, labelled data required for the classification process using supervised learning methods, time series data and geographic data for each incident. The geographic data used is rounded to the closes 50 value for privacy reasons so as to not explicitly identify dwellings within the dataset. \n",
    "\n",
    "The geographic data is used to combine the incident data with the income and housing data that is available at the MSOA (Medium Super Output Area) level.\n"
   ]
  },
  {
   "cell_type": "code",
   "execution_count": null,
   "id": "fa916291-bb03-45a4-b83f-7fb8d30d4cc8",
   "metadata": {
    "tags": []
   },
   "outputs": [],
   "source": [
    "# Load the MSOA GeoData\n",
    "url_msoas = \"https://github.com/kav-sekar/fsds_data_brief/blob/main/clean_data/London_MSOAs.gpkg?raw=true\"\n",
    "msoas = gpd.read_file(url_msoas, driver='GPKG')\n",
    "msoas = msoas.drop(columns=['OBJECTID','MSOA11NM','BNG_E','BNG_N','Borough','msoa11hclnm'])\n",
    "msoas.head()"
   ]
  },
  {
   "cell_type": "code",
   "execution_count": null,
   "id": "64acbe90-8beb-44ab-8e83-fa847ac64f37",
   "metadata": {
    "tags": []
   },
   "outputs": [],
   "source": [
    "pdf = incidentData[['DateOfCall','TimeOfCall','IncidentGroup','StopCodeDescription','PropertyCategory','PropertyType','AddressQualifier','Latitude','Longitude','IncidentStationGround']].copy()\n",
    "pdf.drop(pdf[((pdf.Latitude.isna())|(pdf.Longitude.isna()))].index, axis=0, inplace=True)\n",
    "pdf.drop(pdf[((pdf.Latitude < 40)|(pdf.Longitude > 1))].index, axis=0, inplace=True)"
   ]
  },
  {
   "cell_type": "code",
   "execution_count": null,
   "id": "1f464063-8253-417c-9b8c-d37b30911e90",
   "metadata": {
    "tags": []
   },
   "outputs": [],
   "source": [
    "# Creating geodata frame with airbnb listings\n",
    "gdf = gpd.GeoDataFrame(pdf, geometry=gpd.points_from_xy(pdf['Longitude'], pdf['Latitude'], crs='epsg:4326'))\n",
    "gdf = gdf.to_crs('epsg:27700')\n",
    "#gdf.plot(column='CalYear', cmap='plasma', scheme='quantiles', k=10, markersize=1, figsize=(8,6));"
   ]
  },
  {
   "cell_type": "code",
   "execution_count": null,
   "id": "6f94d382-65f7-4368-bfe5-a89935df7cee",
   "metadata": {
    "tags": []
   },
   "outputs": [],
   "source": [
    "# Aggregate incidents by MSOA\n",
    "geoIncident = gpd.sjoin(gdf, msoas, op='within').drop(columns=['index_right'])\n",
    "geoIncident.head(5)"
   ]
  },
  {
   "cell_type": "code",
   "execution_count": null,
   "id": "2d72094d-bdf3-4d57-9d8b-05dca28e69b1",
   "metadata": {
    "tags": []
   },
   "outputs": [],
   "source": [
    "fireData = pd.merge(geoIncident, soceconomicData, left_on=\"MSOA11CD\", right_on=\"MSOA code\",how=\"inner\")\n",
    "fireData = fireData.drop(columns = \"MSOA11CD\",)\n",
    "fireData = fireData.set_geometry('geometry')\n",
    "fireData.head(5)"
   ]
  },
  {
   "cell_type": "code",
   "execution_count": null,
   "id": "eb7f758a-bf96-4bf1-b94b-afe9309a4f34",
   "metadata": {},
   "outputs": [],
   "source": [
    "fireDataNoGeo = fireData.drop(columns = 'geometry')\n",
    "fireDataNoGeo.profile_report()"
   ]
  },
  {
   "cell_type": "markdown",
   "id": "48d5b0c9-9ce8-42a3-a839-da02ab035de4",
   "metadata": {},
   "source": [
    "# 5. Methodology"
   ]
  },
  {
   "cell_type": "markdown",
   "id": "f5e0a7f2-1a84-4245-85a0-6e5229a137be",
   "metadata": {},
   "source": [
    "## 5.1. Data validation and cleaning"
   ]
  },
  {
   "cell_type": "markdown",
   "id": "e35c0564-e20a-419b-9f7f-5986c48aa476",
   "metadata": {},
   "source": [
    "## 5.2. Data pre-processing"
   ]
  },
  {
   "cell_type": "markdown",
   "id": "c7f1b22a-c3c7-4063-b562-b7093109f21b",
   "metadata": {},
   "source": [
    "## 5.3. Comprehensive analysis"
   ]
  },
  {
   "cell_type": "markdown",
   "id": "0be56865-ee37-484f-b309-7e5a885d1207",
   "metadata": {},
   "source": [
    "# Results and Discussion"
   ]
  },
  {
   "cell_type": "markdown",
   "id": "64cb1242-a8bb-46c0-b28e-1945d6ab6f94",
   "metadata": {},
   "source": [
    "# Conclusion"
   ]
  }
 ],
 "metadata": {
  "kernelspec": {
   "display_name": "Python 3 (ipykernel)",
   "language": "python",
   "name": "python3"
  },
  "language_info": {
   "codemirror_mode": {
    "name": "ipython",
    "version": 3
   },
   "file_extension": ".py",
   "mimetype": "text/x-python",
   "name": "python",
   "nbconvert_exporter": "python",
   "pygments_lexer": "ipython3",
   "version": "3.9.6"
  }
 },
 "nbformat": 4,
 "nbformat_minor": 5
}
